{
 "cells": [
  {
   "cell_type": "markdown",
   "metadata": {},
   "source": [
    "# Grupo: Leila Aparecida da Silva e Leticia Yumi Katsurada\n",
    "\n",
    "\n",
    "# News Category Dataset\n",
    "(https://www.kaggle.com/rmisra/news-category-dataset) \n",
    "\n",
    "![imagem](http://s3.amazonaws.com/s3.wben.com/styles/nts_image_cover_tall_775x425/s3/s3fs-public/breaking%20graphic%20deamstime.jpg?itok=4AF8dIsv&c=b6edab9350f457edd2df68f0c7623b9c)\n",
    "\n",
    "### Atributos:\n",
    "`authors`: autores que publicaram o artigo  \n",
    "`date`: data em que o artigo foi publicado  \n",
    "`headline:` manchete da notícia  \n",
    "`article_link`: link para o artigo original da notícia \n",
    "`short_description`: uma descrição curta sobre o artigo  \n",
    "`category`: categoria da notícia (atributo de classificação)  \n",
    "\n"
   ]
  },
  {
   "cell_type": "markdown",
   "metadata": {},
   "source": [
    "## Etapa 1 - Escolha do conjunto de Dados\n",
    "\n",
    "**✓ Relevante**: Classificação de notícias e de texto em geral é útil e aplicável em vários contextos  \n",
    "**✓ Desafiador**: É necessário tratar os dados de texto antes de utilizar   \n",
    "**✓ Complexo**: Trabalhar com classificação por meio de textos, gera um conjunto de dados mais complexo do que se fosse um categórico ou numérico.   "
   ]
  },
  {
   "cell_type": "markdown",
   "metadata": {},
   "source": [
    "## Importação de bibliotecas utilizadas"
   ]
  },
  {
   "cell_type": "code",
   "execution_count": 1,
   "metadata": {},
   "outputs": [],
   "source": [
    "import pandas as pd\n",
    "import os \n",
    "import json\n",
    "import seaborn as sb\n",
    "import numpy as np\n",
    "import matplotlib.pyplot as plt"
   ]
  },
  {
   "cell_type": "markdown",
   "metadata": {},
   "source": [
    "# Estudo do conjunto de Dados"
   ]
  },
  {
   "cell_type": "markdown",
   "metadata": {},
   "source": [
    "## Leitura do Dataset"
   ]
  },
  {
   "cell_type": "code",
   "execution_count": 2,
   "metadata": {},
   "outputs": [],
   "source": [
    "df = pd.read_json('News_Category_Dataset.json', lines=True)"
   ]
  },
  {
   "cell_type": "markdown",
   "metadata": {},
   "source": [
    "## Visualização"
   ]
  },
  {
   "cell_type": "code",
   "execution_count": 3,
   "metadata": {},
   "outputs": [
    {
     "data": {
      "text/html": [
       "<div>\n",
       "<style scoped>\n",
       "    .dataframe tbody tr th:only-of-type {\n",
       "        vertical-align: middle;\n",
       "    }\n",
       "\n",
       "    .dataframe tbody tr th {\n",
       "        vertical-align: top;\n",
       "    }\n",
       "\n",
       "    .dataframe thead th {\n",
       "        text-align: right;\n",
       "    }\n",
       "</style>\n",
       "<table border=\"1\" class=\"dataframe\">\n",
       "  <thead>\n",
       "    <tr style=\"text-align: right;\">\n",
       "      <th></th>\n",
       "      <th>authors</th>\n",
       "      <th>category</th>\n",
       "      <th>date</th>\n",
       "      <th>headline</th>\n",
       "      <th>link</th>\n",
       "      <th>short_description</th>\n",
       "    </tr>\n",
       "  </thead>\n",
       "  <tbody>\n",
       "    <tr>\n",
       "      <th>0</th>\n",
       "      <td>Melissa Jeltsen</td>\n",
       "      <td>CRIME</td>\n",
       "      <td>2018-05-26</td>\n",
       "      <td>There Were 2 Mass Shootings In Texas Last Week...</td>\n",
       "      <td>https://www.huffingtonpost.com/entry/texas-ama...</td>\n",
       "      <td>She left her husband. He killed their children...</td>\n",
       "    </tr>\n",
       "    <tr>\n",
       "      <th>1</th>\n",
       "      <td>Andy McDonald</td>\n",
       "      <td>ENTERTAINMENT</td>\n",
       "      <td>2018-05-26</td>\n",
       "      <td>Will Smith Joins Diplo And Nicky Jam For The 2...</td>\n",
       "      <td>https://www.huffingtonpost.com/entry/will-smit...</td>\n",
       "      <td>Of course it has a song.</td>\n",
       "    </tr>\n",
       "    <tr>\n",
       "      <th>2</th>\n",
       "      <td>Ron Dicker</td>\n",
       "      <td>ENTERTAINMENT</td>\n",
       "      <td>2018-05-26</td>\n",
       "      <td>Hugh Grant Marries For The First Time At Age 57</td>\n",
       "      <td>https://www.huffingtonpost.com/entry/hugh-gran...</td>\n",
       "      <td>The actor and his longtime girlfriend Anna Ebe...</td>\n",
       "    </tr>\n",
       "    <tr>\n",
       "      <th>3</th>\n",
       "      <td>Ron Dicker</td>\n",
       "      <td>ENTERTAINMENT</td>\n",
       "      <td>2018-05-26</td>\n",
       "      <td>Jim Carrey Blasts 'Castrato' Adam Schiff And D...</td>\n",
       "      <td>https://www.huffingtonpost.com/entry/jim-carre...</td>\n",
       "      <td>The actor gives Dems an ass-kicking for not fi...</td>\n",
       "    </tr>\n",
       "    <tr>\n",
       "      <th>4</th>\n",
       "      <td>Ron Dicker</td>\n",
       "      <td>ENTERTAINMENT</td>\n",
       "      <td>2018-05-26</td>\n",
       "      <td>Julianna Margulies Uses Donald Trump Poop Bags...</td>\n",
       "      <td>https://www.huffingtonpost.com/entry/julianna-...</td>\n",
       "      <td>The \"Dietland\" actress said using the bags is ...</td>\n",
       "    </tr>\n",
       "  </tbody>\n",
       "</table>\n",
       "</div>"
      ],
      "text/plain": [
       "           authors       category       date  \\\n",
       "0  Melissa Jeltsen          CRIME 2018-05-26   \n",
       "1    Andy McDonald  ENTERTAINMENT 2018-05-26   \n",
       "2       Ron Dicker  ENTERTAINMENT 2018-05-26   \n",
       "3       Ron Dicker  ENTERTAINMENT 2018-05-26   \n",
       "4       Ron Dicker  ENTERTAINMENT 2018-05-26   \n",
       "\n",
       "                                            headline  \\\n",
       "0  There Were 2 Mass Shootings In Texas Last Week...   \n",
       "1  Will Smith Joins Diplo And Nicky Jam For The 2...   \n",
       "2    Hugh Grant Marries For The First Time At Age 57   \n",
       "3  Jim Carrey Blasts 'Castrato' Adam Schiff And D...   \n",
       "4  Julianna Margulies Uses Donald Trump Poop Bags...   \n",
       "\n",
       "                                                link  \\\n",
       "0  https://www.huffingtonpost.com/entry/texas-ama...   \n",
       "1  https://www.huffingtonpost.com/entry/will-smit...   \n",
       "2  https://www.huffingtonpost.com/entry/hugh-gran...   \n",
       "3  https://www.huffingtonpost.com/entry/jim-carre...   \n",
       "4  https://www.huffingtonpost.com/entry/julianna-...   \n",
       "\n",
       "                                   short_description  \n",
       "0  She left her husband. He killed their children...  \n",
       "1                           Of course it has a song.  \n",
       "2  The actor and his longtime girlfriend Anna Ebe...  \n",
       "3  The actor gives Dems an ass-kicking for not fi...  \n",
       "4  The \"Dietland\" actress said using the bags is ...  "
      ]
     },
     "execution_count": 3,
     "metadata": {},
     "output_type": "execute_result"
    }
   ],
   "source": [
    "df.head()"
   ]
  },
  {
   "cell_type": "markdown",
   "metadata": {},
   "source": [
    "## Quantidade de linhas e colunas no DataFrame original"
   ]
  },
  {
   "cell_type": "code",
   "execution_count": 4,
   "metadata": {},
   "outputs": [
    {
     "data": {
      "text/plain": [
       "(124989, 6)"
      ]
     },
     "execution_count": 4,
     "metadata": {},
     "output_type": "execute_result"
    }
   ],
   "source": [
    "df.shape"
   ]
  },
  {
   "cell_type": "code",
   "execution_count": 5,
   "metadata": {},
   "outputs": [
    {
     "data": {
      "text/plain": [
       "authors              124989\n",
       "category             124989\n",
       "date                 124989\n",
       "headline             124989\n",
       "link                 124989\n",
       "short_description    124989\n",
       "dtype: int64"
      ]
     },
     "execution_count": 5,
     "metadata": {},
     "output_type": "execute_result"
    }
   ],
   "source": [
    "df.count() #dados não-nulos"
   ]
  },
  {
   "cell_type": "code",
   "execution_count": 6,
   "metadata": {},
   "outputs": [
    {
     "data": {
      "text/html": [
       "<div>\n",
       "<style scoped>\n",
       "    .dataframe tbody tr th:only-of-type {\n",
       "        vertical-align: middle;\n",
       "    }\n",
       "\n",
       "    .dataframe tbody tr th {\n",
       "        vertical-align: top;\n",
       "    }\n",
       "\n",
       "    .dataframe thead th {\n",
       "        text-align: right;\n",
       "    }\n",
       "</style>\n",
       "<table border=\"1\" class=\"dataframe\">\n",
       "  <thead>\n",
       "    <tr style=\"text-align: right;\">\n",
       "      <th></th>\n",
       "      <th>authors</th>\n",
       "      <th>category</th>\n",
       "      <th>date</th>\n",
       "      <th>headline</th>\n",
       "      <th>link</th>\n",
       "      <th>short_description</th>\n",
       "    </tr>\n",
       "  </thead>\n",
       "  <tbody>\n",
       "    <tr>\n",
       "      <th>count</th>\n",
       "      <td>124989</td>\n",
       "      <td>124989</td>\n",
       "      <td>124989</td>\n",
       "      <td>124989</td>\n",
       "      <td>124989</td>\n",
       "      <td>124989</td>\n",
       "    </tr>\n",
       "    <tr>\n",
       "      <th>unique</th>\n",
       "      <td>19250</td>\n",
       "      <td>31</td>\n",
       "      <td>1498</td>\n",
       "      <td>124560</td>\n",
       "      <td>124964</td>\n",
       "      <td>103905</td>\n",
       "    </tr>\n",
       "    <tr>\n",
       "      <th>top</th>\n",
       "      <td></td>\n",
       "      <td>POLITICS</td>\n",
       "      <td>2017-01-27 00:00:00</td>\n",
       "      <td>Sunday Roundup</td>\n",
       "      <td>https://www.huffingtonpost.comhttp://www.nytim...</td>\n",
       "      <td></td>\n",
       "    </tr>\n",
       "    <tr>\n",
       "      <th>freq</th>\n",
       "      <td>14151</td>\n",
       "      <td>32739</td>\n",
       "      <td>100</td>\n",
       "      <td>90</td>\n",
       "      <td>2</td>\n",
       "      <td>19590</td>\n",
       "    </tr>\n",
       "    <tr>\n",
       "      <th>first</th>\n",
       "      <td>NaN</td>\n",
       "      <td>NaN</td>\n",
       "      <td>2014-04-18 00:00:00</td>\n",
       "      <td>NaN</td>\n",
       "      <td>NaN</td>\n",
       "      <td>NaN</td>\n",
       "    </tr>\n",
       "    <tr>\n",
       "      <th>last</th>\n",
       "      <td>NaN</td>\n",
       "      <td>NaN</td>\n",
       "      <td>2018-05-26 00:00:00</td>\n",
       "      <td>NaN</td>\n",
       "      <td>NaN</td>\n",
       "      <td>NaN</td>\n",
       "    </tr>\n",
       "  </tbody>\n",
       "</table>\n",
       "</div>"
      ],
      "text/plain": [
       "       authors  category                 date        headline  \\\n",
       "count   124989    124989               124989          124989   \n",
       "unique   19250        31                 1498          124560   \n",
       "top             POLITICS  2017-01-27 00:00:00  Sunday Roundup   \n",
       "freq     14151     32739                  100              90   \n",
       "first      NaN       NaN  2014-04-18 00:00:00             NaN   \n",
       "last       NaN       NaN  2018-05-26 00:00:00             NaN   \n",
       "\n",
       "                                                     link short_description  \n",
       "count                                              124989            124989  \n",
       "unique                                             124964            103905  \n",
       "top     https://www.huffingtonpost.comhttp://www.nytim...                    \n",
       "freq                                                    2             19590  \n",
       "first                                                 NaN               NaN  \n",
       "last                                                  NaN               NaN  "
      ]
     },
     "execution_count": 6,
     "metadata": {},
     "output_type": "execute_result"
    }
   ],
   "source": [
    "df.describe()\n",
    "#df.mean()"
   ]
  },
  {
   "cell_type": "markdown",
   "metadata": {},
   "source": [
    "# Solucionar problemas de atributos"
   ]
  },
  {
   "cell_type": "markdown",
   "metadata": {},
   "source": [
    "## Há registros com dados faltantes! (NaN)\n",
    "### Vamos eliminá-los "
   ]
  },
  {
   "cell_type": "code",
   "execution_count": 7,
   "metadata": {},
   "outputs": [
    {
     "data": {
      "text/plain": [
       "(95707, 6)"
      ]
     },
     "execution_count": 7,
     "metadata": {},
     "output_type": "execute_result"
    }
   ],
   "source": [
    "#eliminar tuplas com valores faltantes\n",
    "df = df[~(df['authors'].isin(['']))]\n",
    "df = df[~(df['category'].isin(['']))]\n",
    "df = df[~(df['headline'].isin(['']))]\n",
    "df = df[~(df['short_description'].isin(['']))]\n",
    "\n",
    "df.shape"
   ]
  },
  {
   "cell_type": "markdown",
   "metadata": {},
   "source": [
    "### De 124989 para 95707 tuplas"
   ]
  },
  {
   "cell_type": "markdown",
   "metadata": {},
   "source": [
    "## Seleção de atributos\n",
    "#### Os atributos `link` e `date` não são, à princípio, úteis na classificação. Então vamos removê-los do Dataset.\n",
    "\n",
    "Obs: `link` poderia ser usado em uma análise mais profunda para ler o texto completo da notícia diretamente do site, e em alguns casos `date` poderia ser relevante, como época de eleições onde há mais notícias sobre política. \n"
   ]
  },
  {
   "cell_type": "code",
   "execution_count": 8,
   "metadata": {},
   "outputs": [],
   "source": [
    "#elimina os atributos date e link\n",
    "del df['date']\n",
    "del df['link']"
   ]
  },
  {
   "cell_type": "markdown",
   "metadata": {},
   "source": [
    "## Redução de atributos\n",
    "`headline` e `short_description` são ambos textos com informações sobre as notícias, então vamos agrupá-los para facilitar a criação do modelo."
   ]
  },
  {
   "cell_type": "code",
   "execution_count": 9,
   "metadata": {},
   "outputs": [],
   "source": [
    "#agrupa headline e short description\n",
    "df[\"headline\"] = df[\"short_description\"] + ' ' + df[\"headline\"]\n",
    "\n",
    "#elimina o description\n",
    "del df['short_description']"
   ]
  },
  {
   "cell_type": "markdown",
   "metadata": {},
   "source": [
    "## Atributos após seleção e redução"
   ]
  },
  {
   "cell_type": "code",
   "execution_count": 10,
   "metadata": {},
   "outputs": [
    {
     "name": "stdout",
     "output_type": "stream",
     "text": [
      "Index(['authors', 'category', 'headline'], dtype='object')\n"
     ]
    },
    {
     "data": {
      "text/html": [
       "<div>\n",
       "<style scoped>\n",
       "    .dataframe tbody tr th:only-of-type {\n",
       "        vertical-align: middle;\n",
       "    }\n",
       "\n",
       "    .dataframe tbody tr th {\n",
       "        vertical-align: top;\n",
       "    }\n",
       "\n",
       "    .dataframe thead th {\n",
       "        text-align: right;\n",
       "    }\n",
       "</style>\n",
       "<table border=\"1\" class=\"dataframe\">\n",
       "  <thead>\n",
       "    <tr style=\"text-align: right;\">\n",
       "      <th></th>\n",
       "      <th>authors</th>\n",
       "      <th>category</th>\n",
       "      <th>headline</th>\n",
       "    </tr>\n",
       "  </thead>\n",
       "  <tbody>\n",
       "    <tr>\n",
       "      <th>0</th>\n",
       "      <td>Melissa Jeltsen</td>\n",
       "      <td>CRIME</td>\n",
       "      <td>She left her husband. He killed their children...</td>\n",
       "    </tr>\n",
       "    <tr>\n",
       "      <th>1</th>\n",
       "      <td>Andy McDonald</td>\n",
       "      <td>ENTERTAINMENT</td>\n",
       "      <td>Of course it has a song. Will Smith Joins Dipl...</td>\n",
       "    </tr>\n",
       "    <tr>\n",
       "      <th>2</th>\n",
       "      <td>Ron Dicker</td>\n",
       "      <td>ENTERTAINMENT</td>\n",
       "      <td>The actor and his longtime girlfriend Anna Ebe...</td>\n",
       "    </tr>\n",
       "    <tr>\n",
       "      <th>3</th>\n",
       "      <td>Ron Dicker</td>\n",
       "      <td>ENTERTAINMENT</td>\n",
       "      <td>The actor gives Dems an ass-kicking for not fi...</td>\n",
       "    </tr>\n",
       "    <tr>\n",
       "      <th>4</th>\n",
       "      <td>Ron Dicker</td>\n",
       "      <td>ENTERTAINMENT</td>\n",
       "      <td>The \"Dietland\" actress said using the bags is ...</td>\n",
       "    </tr>\n",
       "  </tbody>\n",
       "</table>\n",
       "</div>"
      ],
      "text/plain": [
       "           authors       category  \\\n",
       "0  Melissa Jeltsen          CRIME   \n",
       "1    Andy McDonald  ENTERTAINMENT   \n",
       "2       Ron Dicker  ENTERTAINMENT   \n",
       "3       Ron Dicker  ENTERTAINMENT   \n",
       "4       Ron Dicker  ENTERTAINMENT   \n",
       "\n",
       "                                            headline  \n",
       "0  She left her husband. He killed their children...  \n",
       "1  Of course it has a song. Will Smith Joins Dipl...  \n",
       "2  The actor and his longtime girlfriend Anna Ebe...  \n",
       "3  The actor gives Dems an ass-kicking for not fi...  \n",
       "4  The \"Dietland\" actress said using the bags is ...  "
      ]
     },
     "execution_count": 10,
     "metadata": {},
     "output_type": "execute_result"
    }
   ],
   "source": [
    "print(df.columns)\n",
    "df.head(5)"
   ]
  },
  {
   "cell_type": "markdown",
   "metadata": {},
   "source": [
    "# Dataset com muitas categorias possíveis (31), classificação complexa\n",
    "\n",
    "Vamos reduzir para uma classificação binária, delimitando o Dataset para tuplas em que `category` é `CRIME`ou `COMEDY`.\n",
    "\n",
    "Optou-se por estas duas categorias por possuírem uma quantidade semelhante de tuplas e por geralmente utilizarem termos mais distintos entre si.\n",
    "\n"
   ]
  },
  {
   "cell_type": "code",
   "execution_count": 11,
   "metadata": {},
   "outputs": [
    {
     "data": {
      "text/plain": [
       "0      CRIME\n",
       "32     CRIME\n",
       "37    COMEDY\n",
       "38    COMEDY\n",
       "39    COMEDY\n",
       "40     CRIME\n",
       "41    COMEDY\n",
       "42     CRIME\n",
       "78    COMEDY\n",
       "85    COMEDY\n",
       "Name: category, dtype: object"
      ]
     },
     "execution_count": 11,
     "metadata": {},
     "output_type": "execute_result"
    }
   ],
   "source": [
    "#restringe o dataset para registros em que a categoria é crime ou comédia\n",
    "df = df.loc[df['category'].isin(['CRIME', 'COMEDY'])]\n",
    "df.category.head(10)"
   ]
  },
  {
   "cell_type": "code",
   "execution_count": 12,
   "metadata": {},
   "outputs": [
    {
     "data": {
      "text/plain": [
       "authors     4909\n",
       "category    4909\n",
       "headline    4909\n",
       "dtype: int64"
      ]
     },
     "execution_count": 12,
     "metadata": {},
     "output_type": "execute_result"
    }
   ],
   "source": [
    "df.count() #quantidade de tuplas entre crime e comedy"
   ]
  },
  {
   "cell_type": "markdown",
   "metadata": {},
   "source": [
    "# Classificação"
   ]
  },
  {
   "cell_type": "code",
   "execution_count": 13,
   "metadata": {},
   "outputs": [],
   "source": [
    "#Coloca os dados em ordem aleatória\n",
    "dfrandom = (df.sample(n=4909, replace=False)) "
   ]
  },
  {
   "cell_type": "markdown",
   "metadata": {},
   "source": [
    "### Aplica hold out"
   ]
  },
  {
   "cell_type": "code",
   "execution_count": 14,
   "metadata": {},
   "outputs": [],
   "source": [
    "## Aplicando hold out 1/2 e 1/2\n",
    "train_df = dfrandom.iloc[:2454,:] \n",
    "test_df = dfrandom.iloc[2454:,:]"
   ]
  },
  {
   "cell_type": "markdown",
   "metadata": {},
   "source": [
    "### Salva dataset de teste para comparação posterior"
   ]
  },
  {
   "cell_type": "code",
   "execution_count": 15,
   "metadata": {},
   "outputs": [
    {
     "data": {
      "text/html": [
       "<div>\n",
       "<style scoped>\n",
       "    .dataframe tbody tr th:only-of-type {\n",
       "        vertical-align: middle;\n",
       "    }\n",
       "\n",
       "    .dataframe tbody tr th {\n",
       "        vertical-align: top;\n",
       "    }\n",
       "\n",
       "    .dataframe thead th {\n",
       "        text-align: right;\n",
       "    }\n",
       "</style>\n",
       "<table border=\"1\" class=\"dataframe\">\n",
       "  <thead>\n",
       "    <tr style=\"text-align: right;\">\n",
       "      <th></th>\n",
       "      <th>category</th>\n",
       "    </tr>\n",
       "  </thead>\n",
       "  <tbody>\n",
       "    <tr>\n",
       "      <th>74867</th>\n",
       "      <td>CRIME</td>\n",
       "    </tr>\n",
       "    <tr>\n",
       "      <th>48608</th>\n",
       "      <td>CRIME</td>\n",
       "    </tr>\n",
       "    <tr>\n",
       "      <th>16617</th>\n",
       "      <td>COMEDY</td>\n",
       "    </tr>\n",
       "    <tr>\n",
       "      <th>2646</th>\n",
       "      <td>COMEDY</td>\n",
       "    </tr>\n",
       "    <tr>\n",
       "      <th>11837</th>\n",
       "      <td>CRIME</td>\n",
       "    </tr>\n",
       "  </tbody>\n",
       "</table>\n",
       "</div>"
      ],
      "text/plain": [
       "      category\n",
       "74867    CRIME\n",
       "48608    CRIME\n",
       "16617   COMEDY\n",
       "2646    COMEDY\n",
       "11837    CRIME"
      ]
     },
     "execution_count": 15,
     "metadata": {},
     "output_type": "execute_result"
    }
   ],
   "source": [
    "#dataset de teste auxiliar para depois comparar\n",
    "aux_test_df = pd.DataFrame()\n",
    "aux_test_df['category'] = test_df['category']\n",
    "aux_test_df.head(5)"
   ]
  },
  {
   "cell_type": "markdown",
   "metadata": {},
   "source": [
    "## Distribuição do Dataset de teste entre as categorias"
   ]
  },
  {
   "cell_type": "code",
   "execution_count": 16,
   "metadata": {},
   "outputs": [
    {
     "data": {
      "text/plain": [
       "category\n",
       "COMEDY    1634\n",
       "CRIME      820\n",
       "Name: headline, dtype: int64"
      ]
     },
     "execution_count": 16,
     "metadata": {},
     "output_type": "execute_result"
    }
   ],
   "source": [
    "count_by_category = train_df.groupby('category').count().headline\n",
    "count_by_category"
   ]
  },
  {
   "cell_type": "markdown",
   "metadata": {},
   "source": [
    "## Classificador trivial\n",
    "Um classificador trivial seria definir que a notícia a ser classificada pertence à classe majoritária (nesse caso COMEDY). O que, considerando o Dataset de treino, teria uma probabilidade de acerto de 0.65%. Assim, nosso classificador precisa necessariamente ser melhor que isso. \n"
   ]
  },
  {
   "cell_type": "code",
   "execution_count": 17,
   "metadata": {},
   "outputs": [
    {
     "data": {
      "text/plain": [
       "0.6658516707416463"
      ]
     },
     "execution_count": 17,
     "metadata": {},
     "output_type": "execute_result"
    }
   ],
   "source": [
    "#classificador trivial\n",
    "count_by_category.max()/count_by_category.sum()"
   ]
  },
  {
   "cell_type": "markdown",
   "metadata": {},
   "source": [
    "## Bag of words\n",
    "O primeiro passo que vamos fazer é transformar o texto de cada linha em uma representação de Bag of Words. Isso vai incluir o processo de tokenização. Vamos pedir para que o CountVectorizer \"aprenda\" o vocabulário do nosso texto. Isso vai fazer com que ele seja capaz de trabalhar com Bag of Words."
   ]
  },
  {
   "cell_type": "code",
   "execution_count": 18,
   "metadata": {},
   "outputs": [
    {
     "data": {
      "text/plain": [
       "CountVectorizer(analyzer='word', binary=False, decode_error='strict',\n",
       "        dtype=<class 'numpy.int64'>, encoding='utf-8', input='content',\n",
       "        lowercase=True, max_df=1.0, max_features=None, min_df=1,\n",
       "        ngram_range=(1, 1), preprocessor=None, stop_words=None,\n",
       "        strip_accents=None, token_pattern='(?u)\\\\b\\\\w\\\\w+\\\\b',\n",
       "        tokenizer=None, vocabulary=None)"
      ]
     },
     "execution_count": 18,
     "metadata": {},
     "output_type": "execute_result"
    }
   ],
   "source": [
    "from sklearn.feature_extraction.text import CountVectorizer\n",
    "bow = CountVectorizer()\n",
    "bow.fit(train_df.append(train_df)['headline'])\n",
    "#lembrando que headline = headline + short_description"
   ]
  },
  {
   "cell_type": "code",
   "execution_count": 19,
   "metadata": {},
   "outputs": [
    {
     "name": "stdout",
     "output_type": "stream",
     "text": [
      "The device contains sealed sources of radioactive material that police warned could be a danger to the public if manipulated. Radioactive Device Stolen From Connecticut Car Has Been Found At A Pawn Shop\n"
     ]
    }
   ],
   "source": [
    "#primeira amostra do dataset de treino\n",
    "print(train_df.iloc[0].headline)"
   ]
  },
  {
   "cell_type": "code",
   "execution_count": 20,
   "metadata": {},
   "outputs": [
    {
     "name": "stdout",
     "output_type": "stream",
     "text": [
      "Tamanho do Vocabulario aprendido: 9562 palavras\n"
     ]
    }
   ],
   "source": [
    "print(\"Tamanho do Vocabulario aprendido:\", len(bow.vocabulary_), \"palavras\")\n"
   ]
  },
  {
   "cell_type": "markdown",
   "metadata": {},
   "source": [
    "## Aplicando o Bag of words"
   ]
  },
  {
   "cell_type": "code",
   "execution_count": 21,
   "metadata": {},
   "outputs": [
    {
     "data": {
      "text/plain": [
       "<2454x9562 sparse matrix of type '<class 'numpy.int64'>'\n",
       "\twith 51928 stored elements in Compressed Sparse Row format>"
      ]
     },
     "execution_count": 21,
     "metadata": {},
     "output_type": "execute_result"
    }
   ],
   "source": [
    "#Resultado: matriz em que cada linha é uma amostra e cada coluna representa\n",
    "#o numero  de vezes que aquela palavra apareceu\n",
    "\n",
    "train_X_bow = bow.transform(train_df['headline'])\n",
    "train_X_bow"
   ]
  },
  {
   "cell_type": "markdown",
   "metadata": {},
   "source": [
    "### Isso gera uma matriz esparsa de 2454 x 9485 (tuplas x palavras) - Muito grande para exibir!   \n",
    "### Vamos exibir apenas a primeira linha:"
   ]
  },
  {
   "cell_type": "code",
   "execution_count": 22,
   "metadata": {},
   "outputs": [
    {
     "data": {
      "text/plain": [
       "array([0, 0, 0, ..., 0, 0, 0])"
      ]
     },
     "execution_count": 22,
     "metadata": {},
     "output_type": "execute_result"
    }
   ],
   "source": [
    "#primeira linha da matriz esparsa\n",
    "x_bow_0 = train_X_bow[0].toarray().reshape(-1)\n",
    "x_bow_0"
   ]
  },
  {
   "cell_type": "markdown",
   "metadata": {},
   "source": [
    "### Reordena em ordem decrescente para saber as palavras mais frequentes\n"
   ]
  },
  {
   "cell_type": "code",
   "execution_count": 23,
   "metadata": {},
   "outputs": [
    {
     "name": "stdout",
     "output_type": "stream",
     "text": [
      "[2437 6740 8524 3427 6113 1971 1897 5219 7427 9216]\n",
      "[2 2 2 1 1 1 1 1 1 1]\n",
      "['device' 'radioactive' 'the' 'found' 'pawn' 'could' 'contains' 'material'\n",
      " 'sealed' 'warned']\n"
     ]
    }
   ],
   "source": [
    "#reordena em ordem decrescente para saber as palavras mais frequentes\n",
    "idx = np.argsort(-x_bow_0)[:10]\n",
    "print(idx)\n",
    "print(x_bow_0[idx])\n",
    "print(np.array(bow.get_feature_names())[idx])"
   ]
  },
  {
   "cell_type": "markdown",
   "metadata": {},
   "source": [
    "# Porém...\n",
    "Palavras comuns em todos os textos, como \"for\", \"the\", \"who\"\n",
    "\n",
    "\n",
    "# Solução: TF-IDF\n",
    "### Term Frequency - Inverse Document Frequency\n",
    "\n",
    "Técnica para classificar palavras por ordem de relevância, "
   ]
  },
  {
   "cell_type": "markdown",
   "metadata": {},
   "source": [
    "## TF-IDF\n",
    "### Term Frequency - Inverse Document Frequency\n",
    "\n",
    "Técnica para classificar palavras por ordem de relevância, seguindo o princípio de que quanto menos frequente uma palavra aparece em todo o Dataset, mais relevante ela é. "
   ]
  },
  {
   "cell_type": "code",
   "execution_count": 24,
   "metadata": {},
   "outputs": [
    {
     "name": "stdout",
     "output_type": "stream",
     "text": [
      "[6740 2437 6113 5219 5148 7427 1897 9216 7900 1863 2195 7618 8105 6631\n",
      " 1370 1971 3427  858 4218 3915]\n",
      "[0.43056063 0.38322699 0.22660581 0.22660581 0.22660581 0.22660581\n",
      " 0.21528032 0.20724475 0.20724475 0.20101188 0.20101188 0.18459375\n",
      " 0.18165081 0.17032532 0.14292868 0.13842413 0.12894097 0.12122463\n",
      " 0.11247587 0.10438168]\n",
      "['radioactive' 'device' 'pawn' 'material' 'manipulated' 'sealed'\n",
      " 'contains' 'warned' 'sources' 'connecticut' 'danger' 'shop' 'stolen'\n",
      " 'public' 'car' 'could' 'found' 'been' 'if' 'has']\n"
     ]
    }
   ],
   "source": [
    "from sklearn.feature_extraction.text import TfidfTransformer\n",
    "tfidf = TfidfTransformer()\n",
    "tfidf.fit(train_X_bow)\n",
    "\n",
    "#transformar o bag of words\n",
    "train_X_tfidf = tfidf.transform(train_X_bow)\n",
    "train_X_tfidf\n",
    "\n",
    "#conteudo do bag of words (primeira posição)\n",
    "x_tfidf_0 = train_X_tfidf[0].toarray().reshape(-1)\n",
    "x_tfidf_0\n",
    "\n",
    "#ordena de mais frequente para menos frequente (na primeira posição)\n",
    "idx = np.argsort(-x_tfidf_0)[:20]\n",
    "print(idx)\n",
    "print(x_tfidf_0[idx])\n",
    "print(np.array(bow.get_feature_names())[idx])"
   ]
  },
  {
   "cell_type": "markdown",
   "metadata": {},
   "source": [
    "### LabelEncoding do Target\n",
    "Converte as categorias para valores numéricos:\n",
    "\n",
    "Comedy = 1 e Crime = 0"
   ]
  },
  {
   "cell_type": "code",
   "execution_count": 25,
   "metadata": {},
   "outputs": [
    {
     "data": {
      "text/plain": [
       "array(['COMEDY', 'CRIME'], dtype=object)"
      ]
     },
     "execution_count": 25,
     "metadata": {},
     "output_type": "execute_result"
    }
   ],
   "source": [
    "from sklearn.preprocessing import LabelEncoder\n",
    "le = LabelEncoder()\n",
    "le.fit(train_df['category'])\n",
    "le.classes_\n"
   ]
  },
  {
   "cell_type": "code",
   "execution_count": 26,
   "metadata": {},
   "outputs": [
    {
     "data": {
      "text/plain": [
       "array([1, 0, 0, ..., 1, 1, 0])"
      ]
     },
     "execution_count": 26,
     "metadata": {},
     "output_type": "execute_result"
    }
   ],
   "source": [
    "#Converte a coluna category do dataset para numérico, sendo 0 comedy e 1 crime\n",
    "train_y = le.transform(train_df['category'])\n",
    "train_y"
   ]
  },
  {
   "cell_type": "markdown",
   "metadata": {},
   "source": [
    "## Treinando Modelo\n",
    "### Naive Bayes"
   ]
  },
  {
   "cell_type": "code",
   "execution_count": 27,
   "metadata": {},
   "outputs": [],
   "source": [
    "from sklearn.naive_bayes import MultinomialNB\n",
    "nb = MultinomialNB(alpha=1.0)"
   ]
  },
  {
   "cell_type": "markdown",
   "metadata": {},
   "source": [
    "### Convertendo para Bag of words"
   ]
  },
  {
   "cell_type": "code",
   "execution_count": 28,
   "metadata": {},
   "outputs": [
    {
     "data": {
      "text/plain": [
       "<2454x9562 sparse matrix of type '<class 'numpy.int64'>'\n",
       "\twith 51928 stored elements in Compressed Sparse Row format>"
      ]
     },
     "execution_count": 28,
     "metadata": {},
     "output_type": "execute_result"
    }
   ],
   "source": [
    "train_X_bow = bow.transform(train_df['headline'])\n",
    "train_X_bow"
   ]
  },
  {
   "cell_type": "markdown",
   "metadata": {},
   "source": [
    "### Aplicando TF-IDF\n"
   ]
  },
  {
   "cell_type": "code",
   "execution_count": 29,
   "metadata": {},
   "outputs": [
    {
     "data": {
      "text/plain": [
       "<2454x9562 sparse matrix of type '<class 'numpy.float64'>'\n",
       "\twith 51928 stored elements in Compressed Sparse Row format>"
      ]
     },
     "execution_count": 29,
     "metadata": {},
     "output_type": "execute_result"
    }
   ],
   "source": [
    "train_X_tfidf = tfidf.transform(train_X_bow)\n",
    "train_X_tfidf"
   ]
  },
  {
   "cell_type": "markdown",
   "metadata": {},
   "source": [
    "### Para treinar, passar as características e os targets\n"
   ]
  },
  {
   "cell_type": "code",
   "execution_count": 30,
   "metadata": {},
   "outputs": [
    {
     "data": {
      "text/plain": [
       "MultinomialNB(alpha=1.0, class_prior=None, fit_prior=True)"
      ]
     },
     "execution_count": 30,
     "metadata": {},
     "output_type": "execute_result"
    }
   ],
   "source": [
    "nb.fit(train_X_tfidf, train_y)\n"
   ]
  },
  {
   "cell_type": "markdown",
   "metadata": {},
   "source": [
    "### Predição usando o próprio dataset de treino\n"
   ]
  },
  {
   "cell_type": "code",
   "execution_count": 31,
   "metadata": {},
   "outputs": [
    {
     "data": {
      "text/plain": [
       "array([1, 0, 0, ..., 1, 1, 0])"
      ]
     },
     "execution_count": 31,
     "metadata": {},
     "output_type": "execute_result"
    }
   ],
   "source": [
    "y_pred = nb.predict(train_X_tfidf)\n",
    "y_pred"
   ]
  },
  {
   "cell_type": "code",
   "execution_count": 32,
   "metadata": {},
   "outputs": [
    {
     "name": "stdout",
     "output_type": "stream",
     "text": [
      "Acurácia:  0.9515077424612877\n"
     ]
    }
   ],
   "source": [
    "#Avaliando usando o dataset de treino\n",
    "from sklearn.metrics import accuracy_score\n",
    "print(\"Acurácia: \", accuracy_score(train_y, y_pred))"
   ]
  },
  {
   "cell_type": "markdown",
   "metadata": {},
   "source": [
    "Ao testar com o Dataset de treino, é óbvio que o modelo tem uma alta precisão. Agora vamos aplicar o modelo no Dataset de teste:"
   ]
  },
  {
   "cell_type": "markdown",
   "metadata": {},
   "source": [
    "## Cross Validation\n",
    "\n",
    "Dataset de teste auxiliar reservado anteriormente:"
   ]
  },
  {
   "cell_type": "code",
   "execution_count": 33,
   "metadata": {},
   "outputs": [
    {
     "data": {
      "text/html": [
       "<div>\n",
       "<style scoped>\n",
       "    .dataframe tbody tr th:only-of-type {\n",
       "        vertical-align: middle;\n",
       "    }\n",
       "\n",
       "    .dataframe tbody tr th {\n",
       "        vertical-align: top;\n",
       "    }\n",
       "\n",
       "    .dataframe thead th {\n",
       "        text-align: right;\n",
       "    }\n",
       "</style>\n",
       "<table border=\"1\" class=\"dataframe\">\n",
       "  <thead>\n",
       "    <tr style=\"text-align: right;\">\n",
       "      <th></th>\n",
       "      <th>category</th>\n",
       "    </tr>\n",
       "  </thead>\n",
       "  <tbody>\n",
       "    <tr>\n",
       "      <th>74867</th>\n",
       "      <td>CRIME</td>\n",
       "    </tr>\n",
       "    <tr>\n",
       "      <th>48608</th>\n",
       "      <td>CRIME</td>\n",
       "    </tr>\n",
       "    <tr>\n",
       "      <th>16617</th>\n",
       "      <td>COMEDY</td>\n",
       "    </tr>\n",
       "    <tr>\n",
       "      <th>2646</th>\n",
       "      <td>COMEDY</td>\n",
       "    </tr>\n",
       "    <tr>\n",
       "      <th>11837</th>\n",
       "      <td>CRIME</td>\n",
       "    </tr>\n",
       "  </tbody>\n",
       "</table>\n",
       "</div>"
      ],
      "text/plain": [
       "      category\n",
       "74867    CRIME\n",
       "48608    CRIME\n",
       "16617   COMEDY\n",
       "2646    COMEDY\n",
       "11837    CRIME"
      ]
     },
     "execution_count": 33,
     "metadata": {},
     "output_type": "execute_result"
    }
   ],
   "source": [
    "aux_test_df.head()"
   ]
  },
  {
   "cell_type": "code",
   "execution_count": 34,
   "metadata": {},
   "outputs": [
    {
     "data": {
      "text/plain": [
       "array([1, 1, 0, ..., 0, 0, 0])"
      ]
     },
     "execution_count": 34,
     "metadata": {},
     "output_type": "execute_result"
    }
   ],
   "source": [
    "#no arquivo de teste auxiliar\n",
    "#Converte a coluna category para numérico, sendo 0 comedy e 1 crime\n",
    "test_y = le.transform(aux_test_df['category'])\n",
    "test_y"
   ]
  },
  {
   "cell_type": "markdown",
   "metadata": {},
   "source": [
    "## Validação K-Fold"
   ]
  },
  {
   "cell_type": "code",
   "execution_count": 35,
   "metadata": {},
   "outputs": [
    {
     "name": "stdout",
     "output_type": "stream",
     "text": [
      "Acurácia do modelo aplicado ao conjunto de teste: 0.9107942973523422\n"
     ]
    }
   ],
   "source": [
    "from sklearn.model_selection import cross_val_predict, StratifiedKFold\n",
    "cv = StratifiedKFold(n_splits=10, random_state=42)\n",
    "\n",
    "\n",
    "\n",
    "#convertendo para bag of words\n",
    "test_X_bow = bow.transform(test_df['headline'])\n",
    "\n",
    "#aplicando TF-IDF\n",
    "test_X_tfidf = tfidf.transform(test_X_bow)\n",
    "test_X_tfidf\n",
    "\n",
    "#conteudo do bag of words (primeira posição)\n",
    "x_tfidf_0 = test_X_tfidf[0].toarray().reshape(-1)\n",
    "x_tfidf_0\n",
    "\n",
    "y_pred = cross_val_predict(MultinomialNB(alpha=1.0),\n",
    "                           test_X_tfidf,\n",
    "                           test_y,\n",
    "                           cv=cv)\n",
    "print(\"Acurácia do modelo aplicado ao conjunto de teste:\", \n",
    "      accuracy_score(test_y, y_pred))\n"
   ]
  },
  {
   "cell_type": "markdown",
   "metadata": {},
   "source": [
    "## Log Loss\n",
    "\n",
    "Uma outra métrica bem conhecida é o Log Loss (Logarithmic Loss). Usada em problemas de classificação, esta métrica penaliza os modelos com classificações falsas. \n",
    "\n",
    "Quanto **menor** o Log Loss, **melhor**.\n",
    "\n"
   ]
  },
  {
   "cell_type": "code",
   "execution_count": 36,
   "metadata": {},
   "outputs": [
    {
     "data": {
      "text/plain": [
       "0.2297091317375838"
      ]
     },
     "execution_count": 36,
     "metadata": {},
     "output_type": "execute_result"
    }
   ],
   "source": [
    "#outra metrica: log_loss\n",
    "y_pred_proba = cross_val_predict(MultinomialNB(alpha=1.0),\n",
    "                                 test_X_tfidf,\n",
    "                                 test_y,\n",
    "                                 cv=cv,\n",
    "                                 method='predict_proba')\n",
    "from sklearn.metrics import log_loss\n",
    "log_loss(test_y, y_pred_proba)"
   ]
  },
  {
   "cell_type": "markdown",
   "metadata": {},
   "source": [
    "### Predict ProbA\n",
    "Gera uma tabela de probabilidades de ser de cada uma das duas classes"
   ]
  },
  {
   "cell_type": "code",
   "execution_count": 37,
   "metadata": {},
   "outputs": [
    {
     "data": {
      "text/plain": [
       "array([[0.31274474, 0.68725526],\n",
       "       [0.15977436, 0.84022564],\n",
       "       [0.96079803, 0.03920197],\n",
       "       ...,\n",
       "       [0.9720522 , 0.0279478 ],\n",
       "       [0.93461213, 0.06538787],\n",
       "       [0.88393173, 0.11606827]])"
      ]
     },
     "execution_count": 37,
     "metadata": {},
     "output_type": "execute_result"
    }
   ],
   "source": [
    "y_pred_proba = nb.predict_proba(test_X_tfidf)\n",
    "y_pred_proba"
   ]
  },
  {
   "cell_type": "code",
   "execution_count": 38,
   "metadata": {},
   "outputs": [
    {
     "data": {
      "text/html": [
       "<div>\n",
       "<style scoped>\n",
       "    .dataframe tbody tr th:only-of-type {\n",
       "        vertical-align: middle;\n",
       "    }\n",
       "\n",
       "    .dataframe tbody tr th {\n",
       "        vertical-align: top;\n",
       "    }\n",
       "\n",
       "    .dataframe thead th {\n",
       "        text-align: right;\n",
       "    }\n",
       "</style>\n",
       "<table border=\"1\" class=\"dataframe\">\n",
       "  <thead>\n",
       "    <tr style=\"text-align: right;\">\n",
       "      <th></th>\n",
       "      <th>COMEDY</th>\n",
       "      <th>CRIME</th>\n",
       "    </tr>\n",
       "  </thead>\n",
       "  <tbody>\n",
       "    <tr>\n",
       "      <th>0</th>\n",
       "      <td>0.312745</td>\n",
       "      <td>0.687255</td>\n",
       "    </tr>\n",
       "    <tr>\n",
       "      <th>1</th>\n",
       "      <td>0.159774</td>\n",
       "      <td>0.840226</td>\n",
       "    </tr>\n",
       "    <tr>\n",
       "      <th>2</th>\n",
       "      <td>0.960798</td>\n",
       "      <td>0.039202</td>\n",
       "    </tr>\n",
       "    <tr>\n",
       "      <th>3</th>\n",
       "      <td>0.974406</td>\n",
       "      <td>0.025594</td>\n",
       "    </tr>\n",
       "    <tr>\n",
       "      <th>4</th>\n",
       "      <td>0.691548</td>\n",
       "      <td>0.308452</td>\n",
       "    </tr>\n",
       "    <tr>\n",
       "      <th>5</th>\n",
       "      <td>0.968875</td>\n",
       "      <td>0.031125</td>\n",
       "    </tr>\n",
       "    <tr>\n",
       "      <th>6</th>\n",
       "      <td>0.674736</td>\n",
       "      <td>0.325264</td>\n",
       "    </tr>\n",
       "    <tr>\n",
       "      <th>7</th>\n",
       "      <td>0.947858</td>\n",
       "      <td>0.052142</td>\n",
       "    </tr>\n",
       "    <tr>\n",
       "      <th>8</th>\n",
       "      <td>0.703655</td>\n",
       "      <td>0.296345</td>\n",
       "    </tr>\n",
       "    <tr>\n",
       "      <th>9</th>\n",
       "      <td>0.935320</td>\n",
       "      <td>0.064680</td>\n",
       "    </tr>\n",
       "  </tbody>\n",
       "</table>\n",
       "</div>"
      ],
      "text/plain": [
       "     COMEDY     CRIME\n",
       "0  0.312745  0.687255\n",
       "1  0.159774  0.840226\n",
       "2  0.960798  0.039202\n",
       "3  0.974406  0.025594\n",
       "4  0.691548  0.308452\n",
       "5  0.968875  0.031125\n",
       "6  0.674736  0.325264\n",
       "7  0.947858  0.052142\n",
       "8  0.703655  0.296345\n",
       "9  0.935320  0.064680"
      ]
     },
     "execution_count": 38,
     "metadata": {},
     "output_type": "execute_result"
    }
   ],
   "source": [
    "colunas = [\n",
    "    'COMEDY',\n",
    "    'CRIME',\n",
    "]\n",
    "\n",
    "precisao_df = pd.DataFrame(columns=colunas)\n",
    "\n",
    "precisao_df['COMEDY'] = y_pred_proba[:,0]\n",
    "precisao_df['CRIME'] = y_pred_proba[:,1]\n",
    "\n",
    "precisao_df.head(10)"
   ]
  },
  {
   "cell_type": "code",
   "execution_count": 39,
   "metadata": {},
   "outputs": [
    {
     "data": {
      "text/html": [
       "<div>\n",
       "<style scoped>\n",
       "    .dataframe tbody tr th:only-of-type {\n",
       "        vertical-align: middle;\n",
       "    }\n",
       "\n",
       "    .dataframe tbody tr th {\n",
       "        vertical-align: top;\n",
       "    }\n",
       "\n",
       "    .dataframe thead th {\n",
       "        text-align: right;\n",
       "    }\n",
       "</style>\n",
       "<table border=\"1\" class=\"dataframe\">\n",
       "  <thead>\n",
       "    <tr style=\"text-align: right;\">\n",
       "      <th></th>\n",
       "      <th>COMEDY</th>\n",
       "      <th>CRIME</th>\n",
       "      <th>category</th>\n",
       "    </tr>\n",
       "  </thead>\n",
       "  <tbody>\n",
       "    <tr>\n",
       "      <th>0</th>\n",
       "      <td>0.312745</td>\n",
       "      <td>0.687255</td>\n",
       "      <td>CRIME</td>\n",
       "    </tr>\n",
       "    <tr>\n",
       "      <th>1</th>\n",
       "      <td>0.159774</td>\n",
       "      <td>0.840226</td>\n",
       "      <td>CRIME</td>\n",
       "    </tr>\n",
       "    <tr>\n",
       "      <th>2</th>\n",
       "      <td>0.960798</td>\n",
       "      <td>0.039202</td>\n",
       "      <td>COMEDY</td>\n",
       "    </tr>\n",
       "    <tr>\n",
       "      <th>3</th>\n",
       "      <td>0.974406</td>\n",
       "      <td>0.025594</td>\n",
       "      <td>COMEDY</td>\n",
       "    </tr>\n",
       "    <tr>\n",
       "      <th>4</th>\n",
       "      <td>0.691548</td>\n",
       "      <td>0.308452</td>\n",
       "      <td>COMEDY</td>\n",
       "    </tr>\n",
       "    <tr>\n",
       "      <th>5</th>\n",
       "      <td>0.968875</td>\n",
       "      <td>0.031125</td>\n",
       "      <td>COMEDY</td>\n",
       "    </tr>\n",
       "    <tr>\n",
       "      <th>6</th>\n",
       "      <td>0.674736</td>\n",
       "      <td>0.325264</td>\n",
       "      <td>COMEDY</td>\n",
       "    </tr>\n",
       "    <tr>\n",
       "      <th>7</th>\n",
       "      <td>0.947858</td>\n",
       "      <td>0.052142</td>\n",
       "      <td>COMEDY</td>\n",
       "    </tr>\n",
       "    <tr>\n",
       "      <th>8</th>\n",
       "      <td>0.703655</td>\n",
       "      <td>0.296345</td>\n",
       "      <td>COMEDY</td>\n",
       "    </tr>\n",
       "    <tr>\n",
       "      <th>9</th>\n",
       "      <td>0.935320</td>\n",
       "      <td>0.064680</td>\n",
       "      <td>COMEDY</td>\n",
       "    </tr>\n",
       "  </tbody>\n",
       "</table>\n",
       "</div>"
      ],
      "text/plain": [
       "     COMEDY     CRIME category\n",
       "0  0.312745  0.687255    CRIME\n",
       "1  0.159774  0.840226    CRIME\n",
       "2  0.960798  0.039202   COMEDY\n",
       "3  0.974406  0.025594   COMEDY\n",
       "4  0.691548  0.308452   COMEDY\n",
       "5  0.968875  0.031125   COMEDY\n",
       "6  0.674736  0.325264   COMEDY\n",
       "7  0.947858  0.052142   COMEDY\n",
       "8  0.703655  0.296345   COMEDY\n",
       "9  0.935320  0.064680   COMEDY"
      ]
     },
     "execution_count": 39,
     "metadata": {},
     "output_type": "execute_result"
    }
   ],
   "source": [
    "#classifica entre comedy ou crime\n",
    "\n",
    "def acha_classe(registro):\n",
    "    if registro['COMEDY'] > registro['CRIME']:\n",
    "        return 'COMEDY'\n",
    "    elif registro['COMEDY'] < registro['CRIME']:\n",
    "        return 'CRIME'\n",
    "    else:\n",
    "        return 'UNKNOWN'\n",
    "    \n",
    "precisao_df['category'] = precisao_df.apply(acha_classe, axis=1)\n",
    "\n",
    "precisao_df.head(10)"
   ]
  },
  {
   "cell_type": "code",
   "execution_count": 40,
   "metadata": {},
   "outputs": [
    {
     "data": {
      "text/html": [
       "<div>\n",
       "<style scoped>\n",
       "    .dataframe tbody tr th:only-of-type {\n",
       "        vertical-align: middle;\n",
       "    }\n",
       "\n",
       "    .dataframe tbody tr th {\n",
       "        vertical-align: top;\n",
       "    }\n",
       "\n",
       "    .dataframe thead th {\n",
       "        text-align: right;\n",
       "    }\n",
       "</style>\n",
       "<table border=\"1\" class=\"dataframe\">\n",
       "  <thead>\n",
       "    <tr style=\"text-align: right;\">\n",
       "      <th></th>\n",
       "      <th>category</th>\n",
       "    </tr>\n",
       "  </thead>\n",
       "  <tbody>\n",
       "    <tr>\n",
       "      <th>74867</th>\n",
       "      <td>CRIME</td>\n",
       "    </tr>\n",
       "    <tr>\n",
       "      <th>48608</th>\n",
       "      <td>CRIME</td>\n",
       "    </tr>\n",
       "    <tr>\n",
       "      <th>16617</th>\n",
       "      <td>COMEDY</td>\n",
       "    </tr>\n",
       "    <tr>\n",
       "      <th>2646</th>\n",
       "      <td>COMEDY</td>\n",
       "    </tr>\n",
       "    <tr>\n",
       "      <th>11837</th>\n",
       "      <td>CRIME</td>\n",
       "    </tr>\n",
       "    <tr>\n",
       "      <th>58560</th>\n",
       "      <td>COMEDY</td>\n",
       "    </tr>\n",
       "    <tr>\n",
       "      <th>1031</th>\n",
       "      <td>COMEDY</td>\n",
       "    </tr>\n",
       "    <tr>\n",
       "      <th>50462</th>\n",
       "      <td>COMEDY</td>\n",
       "    </tr>\n",
       "    <tr>\n",
       "      <th>86158</th>\n",
       "      <td>COMEDY</td>\n",
       "    </tr>\n",
       "    <tr>\n",
       "      <th>22361</th>\n",
       "      <td>COMEDY</td>\n",
       "    </tr>\n",
       "  </tbody>\n",
       "</table>\n",
       "</div>"
      ],
      "text/plain": [
       "      category\n",
       "74867    CRIME\n",
       "48608    CRIME\n",
       "16617   COMEDY\n",
       "2646    COMEDY\n",
       "11837    CRIME\n",
       "58560   COMEDY\n",
       "1031    COMEDY\n",
       "50462   COMEDY\n",
       "86158   COMEDY\n",
       "22361   COMEDY"
      ]
     },
     "execution_count": 40,
     "metadata": {},
     "output_type": "execute_result"
    }
   ],
   "source": [
    "aux_test_df.head(10)"
   ]
  },
  {
   "cell_type": "markdown",
   "metadata": {},
   "source": [
    "### Resultados em Gráficos\n",
    "O primeiro mostra a dispersão dos resultados previstos e reais. O segundo a proporção de acertos e erros."
   ]
  },
  {
   "cell_type": "code",
   "execution_count": 44,
   "metadata": {},
   "outputs": [
    {
     "data": {
      "image/png": "[encoded data removed]",
      "text/plain": [
       "<Figure size 792x504 with 1 Axes>"
      ]
     },
     "metadata": {
      "needs_background": "light"
     },
     "output_type": "display_data"
    },
    {
     "data": {
      "image/png": "[encoded data removed]",
      "text/plain": [
       "<Figure size 792x504 with 1 Axes>"
      ]
     },
     "metadata": {},
     "output_type": "display_data"
    }
   ],
   "source": [
    "# Comparando a prevista com a real, classificando a categoria como binario\n",
    "def acha_precisao_classe(precisao_df):\n",
    "    if precisao_df['category'] == 'CRIME':\n",
    "        return 0\n",
    "    else:\n",
    "        return 1\n",
    "    \n",
    "precisao_df['binario'] = precisao_df.apply(acha_precisao_classe, axis=1)\n",
    "\n",
    "def acha_precisao_classe1(aux_test_df):\n",
    "    if aux_test_df['category'] == 'CRIME':\n",
    "        return 0\n",
    "    else:\n",
    "        return 1\n",
    "    \n",
    "aux_test_df['binario_real'] = aux_test_df.apply(acha_precisao_classe1, axis=1)\n",
    "\n",
    "\n",
    "#Grafico dispersão\n",
    "plt.rcParams['figure.figsize'] = (11,7)\n",
    "x = np.array(range(len(precisao_df)))\n",
    "plt.plot(x, precisao_df['binario'], 'bo', label=u\"previsto\") # green bolinha\n",
    "plt.plot(x, aux_test_df['binario_real'], 'y^', label=\"real\")\n",
    "plt.legend(loc='center')\n",
    "\n",
    "plt.axis([0, 50, -0.1, 1.1])\n",
    "plt.title(\"Previsão pelo classificador\")\n",
    "\n",
    "plt.xlabel(\"registro\")\n",
    "plt.ylabel(\"CRIME = 0, COMEDY = 1\")\n",
    "plt.savefig('dispersao.jpg')  \n",
    "plt.show()\n",
    "\n",
    "def acha_precisao_classe2(precisao_df):\n",
    "    if aux_test_df['binario_real'] == precisao_df['binario']:\n",
    "        return 1\n",
    "    else:\n",
    "        return 0\n",
    "      \n",
    "precisao_df['acertou'] = precisao_df.apply(acha_precisao_classe1, axis=1)\n",
    "\n",
    "acertou = precisao_df.groupby(by='acertou')['acertou'].count().sort_values(ascending=False)\n",
    "\n",
    "#Grafico acertos\n",
    "labels = 'ACERTOU', 'ERROU'\n",
    "sizes = [acertou[1], acertou[0]]\n",
    "\n",
    "fig1, ax1 = plt.subplots()\n",
    "ax1.pie(sizes, labels=labels, autopct='%1.1f%%',shadow=True, startangle=90)\n",
    "ax1.axis('equal')  # Equal aspect ratio ensures that pie is drawn as a circle.\n",
    "plt.title(\"Previsão pelo classificador\")\n",
    "plt.savefig('pie.jpg')  \n",
    "plt.show()\n"
   ]
  }
 ],
 "metadata": {
  "kernelspec": {
   "display_name": "Python 3",
   "language": "python",
   "name": "python3"
  },
  "language_info": {
   "codemirror_mode": {
    "name": "ipython",
    "version": 3
   },
   "file_extension": ".py",
   "mimetype": "text/x-python",
   "name": "python",
   "nbconvert_exporter": "python",
   "pygments_lexer": "ipython3",
   "version": "3.6.5"
  }
 },
 "nbformat": 4,
 "nbformat_minor": 2
}
